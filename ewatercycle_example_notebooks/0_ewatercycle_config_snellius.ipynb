{
 "cells": [
  {
   "cell_type": "markdown",
   "id": "44ca8b78-5aab-4c2e-8d45-525a427e2597",
   "metadata": {},
   "source": [
    "![image](https://github.com/eWaterCycle/ewatercycle/raw/main/docs/examples/logo.png)"
   ]
  },
  {
   "cell_type": "markdown",
   "id": "a7d16a90-aa6d-4f58-a950-e4e40917bf4a",
   "metadata": {},
   "source": [
    "## This notebook accompanies the publication by Aerts et al. (review) to demonstrate how extensive model studies can be conducted using the eWaterCycle Platform."
   ]
  },
  {
   "cell_type": "markdown",
   "id": "11ca7b81-e15e-489e-871a-3e3e1c0f5393",
   "metadata": {},
   "source": [
    "### Here we set the eWaterCycle configuration settings. The paths are Snellius cluster computer and user specific."
   ]
  },
  {
   "cell_type": "code",
   "execution_count": 2,
   "id": "eb15d122-448a-4b20-9dd3-b63ef7211f33",
   "metadata": {},
   "outputs": [],
   "source": [
    "import logging\n",
    "import warnings\n",
    "\n",
    "import ewatercycle\n",
    "import ewatercycle.parameter_sets\n",
    "\n",
    "logging.basicConfig(level=logging.INFO)\n",
    "warnings.filterwarnings(\"ignore\", category=DeprecationWarning)"
   ]
  },
  {
   "cell_type": "markdown",
   "id": "e007f757-6b3f-4575-b030-e6abe4f69785",
   "metadata": {},
   "source": [
    "# Set eWaterCycle Config (Snellius)"
   ]
  },
  {
   "cell_type": "code",
   "execution_count": 9,
   "id": "4c0df691-cc82-4fea-8cbc-3afeb143be96",
   "metadata": {},
   "outputs": [
    {
     "name": "stderr",
     "output_type": "stream",
     "text": [
      "INFO:ewatercycle.config._config_object:Config written to /gpfs/home6/jaerts/eWaterCycle_example_notebooks/ewatercycle_example_notebooks/ewatercycle.yaml\n"
     ]
    },
    {
     "data": {
      "text/plain": [
       "'/gpfs/home6/jaerts/eWaterCycle_example_notebooks/ewatercycle_example_notebooks/ewatercycle.yaml'"
      ]
     },
     "execution_count": 9,
     "metadata": {},
     "output_type": "execute_result"
    }
   ],
   "source": [
    "# Which container engine is used to run the hydrological models\n",
    "ewatercycle.CFG[\"container_engine\"] = \"singularity\"  # or 'docker'\n",
    "\n",
    "# If container_engine==singularity then where can the singularity images files (*.sif) be found.\n",
    "ewatercycle.CFG[\"singularity_dir\"] = \"/gpfs/home6/jaerts/singularity/\"\n",
    "\n",
    "# Directory in which output of model runs is stored. Each model run will generate a sub directory inside output_dir\n",
    "ewatercycle.CFG[\n",
    "    \"output_dir\"\n",
    "] = \"/gpfs/home6/jaerts/eWaterCycle_example_data/ewatercycle_output/\"\n",
    "\n",
    "# Where can GRDC observation files (<station identifier>_Q_Day.Cmd.txt) be found.\n",
    "ewatercycle.CFG[\"grdc_location\"] = \"/gpfs/work1/projects/0/wtrcycle/GRDC\"\n",
    "\n",
    "# Where can parameters sets prepared by the system administator be found\n",
    "ewatercycle.CFG[\n",
    "    \"parameterset_dir\"\n",
    "] = \"/gpfs/home6/jaerts/eWaterCycle_example_data/wflow_camels_parameters/\"\n",
    "\n",
    "# Where is the configuration saved or loaded from\n",
    "ewatercycle.CFG[\n",
    "    \"ewatercycle_config\"\n",
    "] = \"/gpfs/home6/jaerts/eWaterCycle_example_notebooks/ewatercycle_example_notebooks/ewatercycle.yaml\"\n",
    "\n",
    "# Save to file\n",
    "ewatercycle.CFG.save_to_file(\n",
    "    \"/gpfs/home6/jaerts/eWaterCycle_example_notebooks/ewatercycle_example_notebooks/ewatercycle.yaml\"\n",
    ")"
   ]
  }
 ],
 "metadata": {
  "kernelspec": {
   "display_name": "Python 3 (ipykernel)",
   "language": "python",
   "name": "python3"
  },
  "language_info": {
   "codemirror_mode": {
    "name": "ipython",
    "version": 3
   },
   "file_extension": ".py",
   "mimetype": "text/x-python",
   "name": "python",
   "nbconvert_exporter": "python",
   "pygments_lexer": "ipython3",
   "version": "3.9.7"
  }
 },
 "nbformat": 4,
 "nbformat_minor": 5
}
